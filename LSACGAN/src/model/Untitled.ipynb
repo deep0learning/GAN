{
 "cells": [
  {
   "cell_type": "code",
   "execution_count": 4,
   "metadata": {
    "collapsed": false
   },
   "outputs": [
    {
     "name": "stdout",
     "output_type": "stream",
     "text": [
      "Using matplotlib backend: TkAgg\n"
     ]
    }
   ],
   "source": [
    "%matplotlib \n",
    "import numpy as np\n",
    "import matplotlib.pyplot as plt\n",
    "\n",
    "\n",
    "prop_cycle = plt.rcParams['axes.prop_cycle']\n",
    "colors = prop_cycle.by_key()['color']\n",
    "\n",
    "lwbase = plt.rcParams['lines.linewidth']\n",
    "thin = float('%.1f' % (lwbase / 2))\n",
    "thick = lwbase * 3\n",
    "\n",
    "fig, axs = plt.subplots(nrows=2, ncols=2, sharex=True, sharey=True)\n",
    "for icol in range(2):\n",
    "    if icol == 0:\n",
    "        lwx, lwy = thin, lwbase\n",
    "    else:\n",
    "        lwx, lwy = lwbase, thick\n",
    "    for irow in range(2):\n",
    "        for i, color in enumerate(colors):\n",
    "            axs[irow, icol].axhline(i, color=color, lw=lwx)\n",
    "            axs[irow, icol].axvline(i, color=color, lw=lwy)\n",
    "\n",
    "    axs[1, icol].set_facecolor('k')\n",
    "    axs[1, icol].xaxis.set_ticks(np.arange(0, 10, 2))\n",
    "    axs[0, icol].set_title('line widths (pts): %.1f, %.1f' % (lwx, lwy),\n",
    "                           fontsize='medium')\n",
    "\n",
    "for irow in range(2):\n",
    "    axs[irow, 0].yaxis.set_ticks(np.arange(0, 10, 2))\n",
    "\n",
    "fig.suptitle('Colors in the default prop_cycle', fontsize='large')\n",
    "plt.clf()\n",
    "plt.show()"
   ]
  },
  {
   "cell_type": "code",
   "execution_count": null,
   "metadata": {
    "collapsed": true
   },
   "outputs": [],
   "source": []
  }
 ],
 "metadata": {
  "kernelspec": {
   "display_name": "Python 2",
   "language": "python",
   "name": "python2"
  },
  "language_info": {
   "codemirror_mode": {
    "name": "ipython",
    "version": 2
   },
   "file_extension": ".py",
   "mimetype": "text/x-python",
   "name": "python",
   "nbconvert_exporter": "python",
   "pygments_lexer": "ipython2",
   "version": "2.7.6"
  }
 },
 "nbformat": 4,
 "nbformat_minor": 0
}
