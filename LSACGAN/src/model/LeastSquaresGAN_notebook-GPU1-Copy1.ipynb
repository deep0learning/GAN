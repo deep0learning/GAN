{
 "cells": [
  {
   "cell_type": "code",
   "execution_count": 1,
   "metadata": {
    "collapsed": false,
    "deletable": true,
    "editable": true,
    "scrolled": false
   },
   "outputs": [
    {
     "name": "stdout",
     "output_type": "stream",
     "text": [
      "Namespace(backend='theano', batch_size=32, bn_mode=2, clamp_lower=-100, clamp_upper=100, deterministic=True, disc_iterations=5, discriminator='discriminator', dset='Vand_Vand_12class_LMDB', generator='upsampling', img_dim=64, inject_noise=False, lr_D=0.0001, lr_G=0.0001, model='lsgan', monsterClass=False, n_batch_per_epoch=500, name='Vand_N+1class_genfixed', nb_epoch=10000, no_supertrain=True, noise_dim=100, noise_scale=0.5, opt_D='Adam', opt_G='Adam', resume=False, use_mbd=False, wd=1e-05)\n"
     ]
    },
    {
     "name": "stderr",
     "output_type": "stream",
     "text": [
      "Using Theano backend.\n",
      "WARNING (theano.sandbox.cuda): The cuda backend is deprecated and will be removed in the next release (v0.10).  Please switch to the gpuarray backend. You can get more information about how to switch at this URL:\n",
      " https://github.com/Theano/Theano/wiki/Converting-to-the-new-gpu-back-end%28gpuarray%29\n",
      "\n",
      "ERROR (theano.sandbox.cuda): ERROR: Not using GPU. Initialisation of device 0 failed:\n",
      "initCnmem: cnmemInit call failed! Reason=CNMEM_STATUS_OUT_OF_MEMORY. numdev=1\n",
      "\n",
      "WARNING (theano.sandbox.cuda): The cuda backend is deprecated and will be removed in the next release (v0.10).  Please switch to the gpuarray backend. You can get more information about how to switch at this URL:\n",
      " https://github.com/Theano/Theano/wiki/Converting-to-the-new-gpu-back-end%28gpuarray%29\n",
      "\n",
      "ERROR (theano.sandbox.cuda): ERROR: Not using GPU. Initialisation of device gpu failed:\n",
      "initCnmem: cnmemInit call failed! Reason=CNMEM_STATUS_OUT_OF_MEMORY. numdev=1\n",
      "\n"
     ]
    },
    {
     "ename": "RuntimeError",
     "evalue": "('initCnmem: cnmemInit call failed! Reason=CNMEM_STATUS_OUT_OF_MEMORY. numdev=1\\n', 'You asked to force this device and it failed. No fallback to the cpu or other gpu device.')",
     "output_type": "error",
     "traceback": [
      "\u001b[0;31m---------------------------------------------------------------------------\u001b[0m",
      "\u001b[0;31mRuntimeError\u001b[0m                              Traceback (most recent call last)",
      "\u001b[0;32m<ipython-input-1-a6c11ea2aabf>\u001b[0m in \u001b[0;36m<module>\u001b[0;34m()\u001b[0m\n\u001b[1;32m     48\u001b[0m \u001b[0;32melif\u001b[0m \u001b[0margs\u001b[0m\u001b[0;34m.\u001b[0m\u001b[0mbackend\u001b[0m \u001b[0;34m==\u001b[0m \u001b[0;34m\"tensorflow\"\u001b[0m\u001b[0;34m:\u001b[0m\u001b[0;34m\u001b[0m\u001b[0m\n\u001b[1;32m     49\u001b[0m     \u001b[0mos\u001b[0m\u001b[0;34m.\u001b[0m\u001b[0menviron\u001b[0m\u001b[0;34m[\u001b[0m\u001b[0;34m\"KERAS_BACKEND\"\u001b[0m\u001b[0;34m]\u001b[0m \u001b[0;34m=\u001b[0m \u001b[0;34m\"tensorflow\"\u001b[0m\u001b[0;34m\u001b[0m\u001b[0m\n\u001b[0;32m---> 50\u001b[0;31m \u001b[0;32mimport\u001b[0m \u001b[0mkeras\u001b[0m\u001b[0;34m.\u001b[0m\u001b[0mbackend\u001b[0m \u001b[0;32mas\u001b[0m \u001b[0mK\u001b[0m\u001b[0;34m\u001b[0m\u001b[0m\n\u001b[0m\u001b[1;32m     51\u001b[0m \u001b[0;31m# manually set dim ordering otherwise it is not changed\u001b[0m\u001b[0;34m\u001b[0m\u001b[0;34m\u001b[0m\u001b[0m\n\u001b[1;32m     52\u001b[0m \u001b[0;32mif\u001b[0m \u001b[0margs\u001b[0m\u001b[0;34m.\u001b[0m\u001b[0mbackend\u001b[0m \u001b[0;34m==\u001b[0m \u001b[0;34m\"theano\"\u001b[0m\u001b[0;34m:\u001b[0m\u001b[0;34m\u001b[0m\u001b[0m\n",
      "\u001b[0;32m/home/paolo/.virtualenvs/keras_th/local/lib/python2.7/site-packages/keras/__init__.py\u001b[0m in \u001b[0;36m<module>\u001b[0;34m()\u001b[0m\n\u001b[1;32m      1\u001b[0m \u001b[0;32mfrom\u001b[0m \u001b[0m__future__\u001b[0m \u001b[0;32mimport\u001b[0m \u001b[0mabsolute_import\u001b[0m\u001b[0;34m\u001b[0m\u001b[0m\n\u001b[0;32m----> 2\u001b[0;31m \u001b[0;32mfrom\u001b[0m \u001b[0;34m.\u001b[0m \u001b[0;32mimport\u001b[0m \u001b[0mbackend\u001b[0m\u001b[0;34m\u001b[0m\u001b[0m\n\u001b[0m\u001b[1;32m      3\u001b[0m \u001b[0;32mfrom\u001b[0m \u001b[0;34m.\u001b[0m \u001b[0;32mimport\u001b[0m \u001b[0mdatasets\u001b[0m\u001b[0;34m\u001b[0m\u001b[0m\n\u001b[1;32m      4\u001b[0m \u001b[0;32mfrom\u001b[0m \u001b[0;34m.\u001b[0m \u001b[0;32mimport\u001b[0m \u001b[0mengine\u001b[0m\u001b[0;34m\u001b[0m\u001b[0m\n\u001b[1;32m      5\u001b[0m \u001b[0;32mfrom\u001b[0m \u001b[0;34m.\u001b[0m \u001b[0;32mimport\u001b[0m \u001b[0mlayers\u001b[0m\u001b[0;34m\u001b[0m\u001b[0m\n",
      "\u001b[0;32m/home/paolo/.virtualenvs/keras_th/local/lib/python2.7/site-packages/keras/backend/__init__.py\u001b[0m in \u001b[0;36m<module>\u001b[0;34m()\u001b[0m\n\u001b[1;32m     62\u001b[0m \u001b[0;32mif\u001b[0m \u001b[0m_BACKEND\u001b[0m \u001b[0;34m==\u001b[0m \u001b[0;34m'theano'\u001b[0m\u001b[0;34m:\u001b[0m\u001b[0;34m\u001b[0m\u001b[0m\n\u001b[1;32m     63\u001b[0m     \u001b[0msys\u001b[0m\u001b[0;34m.\u001b[0m\u001b[0mstderr\u001b[0m\u001b[0;34m.\u001b[0m\u001b[0mwrite\u001b[0m\u001b[0;34m(\u001b[0m\u001b[0;34m'Using Theano backend.\\n'\u001b[0m\u001b[0;34m)\u001b[0m\u001b[0;34m\u001b[0m\u001b[0m\n\u001b[0;32m---> 64\u001b[0;31m     \u001b[0;32mfrom\u001b[0m \u001b[0;34m.\u001b[0m\u001b[0mtheano_backend\u001b[0m \u001b[0;32mimport\u001b[0m \u001b[0;34m*\u001b[0m\u001b[0;34m\u001b[0m\u001b[0m\n\u001b[0m\u001b[1;32m     65\u001b[0m \u001b[0;32melif\u001b[0m \u001b[0m_BACKEND\u001b[0m \u001b[0;34m==\u001b[0m \u001b[0;34m'tensorflow'\u001b[0m\u001b[0;34m:\u001b[0m\u001b[0;34m\u001b[0m\u001b[0m\n\u001b[1;32m     66\u001b[0m     \u001b[0msys\u001b[0m\u001b[0;34m.\u001b[0m\u001b[0mstderr\u001b[0m\u001b[0;34m.\u001b[0m\u001b[0mwrite\u001b[0m\u001b[0;34m(\u001b[0m\u001b[0;34m'Using TensorFlow backend.\\n'\u001b[0m\u001b[0;34m)\u001b[0m\u001b[0;34m\u001b[0m\u001b[0m\n",
      "\u001b[0;32m/home/paolo/.virtualenvs/keras_th/local/lib/python2.7/site-packages/keras/backend/theano_backend.py\u001b[0m in \u001b[0;36m<module>\u001b[0;34m()\u001b[0m\n\u001b[0;32m----> 1\u001b[0;31m \u001b[0;32mimport\u001b[0m \u001b[0mtheano\u001b[0m\u001b[0;34m\u001b[0m\u001b[0m\n\u001b[0m\u001b[1;32m      2\u001b[0m \u001b[0;32mfrom\u001b[0m \u001b[0mtheano\u001b[0m \u001b[0;32mimport\u001b[0m \u001b[0mtensor\u001b[0m \u001b[0;32mas\u001b[0m \u001b[0mT\u001b[0m\u001b[0;34m\u001b[0m\u001b[0m\n\u001b[1;32m      3\u001b[0m \u001b[0;32mfrom\u001b[0m \u001b[0mtheano\u001b[0m\u001b[0;34m.\u001b[0m\u001b[0msandbox\u001b[0m\u001b[0;34m.\u001b[0m\u001b[0mrng_mrg\u001b[0m \u001b[0;32mimport\u001b[0m \u001b[0mMRG_RandomStreams\u001b[0m \u001b[0;32mas\u001b[0m \u001b[0mRandomStreams\u001b[0m\u001b[0;34m\u001b[0m\u001b[0m\n\u001b[1;32m      4\u001b[0m \u001b[0;32mfrom\u001b[0m \u001b[0mtheano\u001b[0m\u001b[0;34m.\u001b[0m\u001b[0mtensor\u001b[0m\u001b[0;34m.\u001b[0m\u001b[0msignal\u001b[0m \u001b[0;32mimport\u001b[0m \u001b[0mpool\u001b[0m\u001b[0;34m\u001b[0m\u001b[0m\n\u001b[1;32m      5\u001b[0m \u001b[0;32mfrom\u001b[0m \u001b[0mtheano\u001b[0m\u001b[0;34m.\u001b[0m\u001b[0mtensor\u001b[0m\u001b[0;34m.\u001b[0m\u001b[0mnnet\u001b[0m \u001b[0;32mimport\u001b[0m \u001b[0mconv3d2d\u001b[0m\u001b[0;34m\u001b[0m\u001b[0m\n",
      "\u001b[0;32m/home/paolo/.virtualenvs/keras_th/local/lib/python2.7/site-packages/theano/__init__.pyc\u001b[0m in \u001b[0;36m<module>\u001b[0;34m()\u001b[0m\n\u001b[1;32m    114\u001b[0m \u001b[0;34m\u001b[0m\u001b[0m\n\u001b[1;32m    115\u001b[0m         \u001b[0;32mif\u001b[0m \u001b[0mconfig\u001b[0m\u001b[0;34m.\u001b[0m\u001b[0menable_initial_driver_test\u001b[0m\u001b[0;34m:\u001b[0m\u001b[0;34m\u001b[0m\u001b[0m\n\u001b[0;32m--> 116\u001b[0;31m             \u001b[0mtheano\u001b[0m\u001b[0;34m.\u001b[0m\u001b[0msandbox\u001b[0m\u001b[0;34m.\u001b[0m\u001b[0mcuda\u001b[0m\u001b[0;34m.\u001b[0m\u001b[0mtests\u001b[0m\u001b[0;34m.\u001b[0m\u001b[0mtest_driver\u001b[0m\u001b[0;34m.\u001b[0m\u001b[0mtest_nvidia_driver1\u001b[0m\u001b[0;34m(\u001b[0m\u001b[0;34m)\u001b[0m\u001b[0;34m\u001b[0m\u001b[0m\n\u001b[0m\u001b[1;32m    117\u001b[0m \u001b[0;34m\u001b[0m\u001b[0m\n\u001b[1;32m    118\u001b[0m if (config.device.startswith('cuda') or\n",
      "\u001b[0;32m/home/paolo/.virtualenvs/keras_th/local/lib/python2.7/site-packages/theano/sandbox/cuda/tests/test_driver.pyc\u001b[0m in \u001b[0;36mtest_nvidia_driver1\u001b[0;34m()\u001b[0m\n\u001b[1;32m     28\u001b[0m     \"\"\"\n\u001b[1;32m     29\u001b[0m     \u001b[0ma\u001b[0m \u001b[0;34m=\u001b[0m \u001b[0mnumpy\u001b[0m\u001b[0;34m.\u001b[0m\u001b[0mrandom\u001b[0m\u001b[0;34m.\u001b[0m\u001b[0mrand\u001b[0m\u001b[0;34m(\u001b[0m\u001b[0;36m10000\u001b[0m\u001b[0;34m)\u001b[0m\u001b[0;34m.\u001b[0m\u001b[0mastype\u001b[0m\u001b[0;34m(\u001b[0m\u001b[0;34m\"float32\"\u001b[0m\u001b[0;34m)\u001b[0m\u001b[0;34m\u001b[0m\u001b[0m\n\u001b[0;32m---> 30\u001b[0;31m     \u001b[0mA\u001b[0m \u001b[0;34m=\u001b[0m \u001b[0mcuda\u001b[0m\u001b[0;34m.\u001b[0m\u001b[0mshared_constructor\u001b[0m\u001b[0;34m(\u001b[0m\u001b[0ma\u001b[0m\u001b[0;34m)\u001b[0m\u001b[0;34m\u001b[0m\u001b[0m\n\u001b[0m\u001b[1;32m     31\u001b[0m     f = theano.function(inputs=[], outputs=A.sum(), mode=mode_with_gpu,\n\u001b[1;32m     32\u001b[0m                         profile=False)\n",
      "\u001b[0;32m/home/paolo/.virtualenvs/keras_th/local/lib/python2.7/site-packages/theano/sandbox/cuda/var.pyc\u001b[0m in \u001b[0;36mfloat32_shared_constructor\u001b[0;34m(value, name, strict, allow_downcast, borrow, broadcastable, target)\u001b[0m\n\u001b[1;32m    164\u001b[0m                                 \u001b[0mdefault_to_move_computation_to_gpu\u001b[0m\u001b[0;34m=\u001b[0m\u001b[0mFalse\u001b[0m\u001b[0;34m,\u001b[0m\u001b[0;34m\u001b[0m\u001b[0m\n\u001b[1;32m    165\u001b[0m                                 \u001b[0mmove_shared_float32_to_gpu\u001b[0m\u001b[0;34m=\u001b[0m\u001b[0mFalse\u001b[0m\u001b[0;34m,\u001b[0m\u001b[0;34m\u001b[0m\u001b[0m\n\u001b[0;32m--> 166\u001b[0;31m                                 enable_cuda=False)\n\u001b[0m\u001b[1;32m    167\u001b[0m \u001b[0;34m\u001b[0m\u001b[0m\n\u001b[1;32m    168\u001b[0m     \u001b[0;31m# if value isn't a float32 ndarray, or a CudaNdarray then raise\u001b[0m\u001b[0;34m\u001b[0m\u001b[0;34m\u001b[0m\u001b[0m\n",
      "\u001b[0;32m/home/paolo/.virtualenvs/keras_th/local/lib/python2.7/site-packages/theano/sandbox/cuda/__init__.pyc\u001b[0m in \u001b[0;36muse\u001b[0;34m(device, force, default_to_move_computation_to_gpu, move_shared_float32_to_gpu, enable_cuda, test_driver)\u001b[0m\n\u001b[1;32m    587\u001b[0m                 \u001b[0muse\u001b[0m\u001b[0;34m.\u001b[0m\u001b[0mdevice_number\u001b[0m \u001b[0;34m=\u001b[0m \u001b[0mactive_device_number\u001b[0m\u001b[0;34m(\u001b[0m\u001b[0;34m)\u001b[0m\u001b[0;34m\u001b[0m\u001b[0m\n\u001b[1;32m    588\u001b[0m                 \u001b[0;31m# This is needed to initialize the cublas handle.\u001b[0m\u001b[0;34m\u001b[0m\u001b[0;34m\u001b[0m\u001b[0m\n\u001b[0;32m--> 589\u001b[0;31m                 \u001b[0mgpu_init\u001b[0m\u001b[0;34m(\u001b[0m\u001b[0muse\u001b[0m\u001b[0;34m.\u001b[0m\u001b[0mdevice_number\u001b[0m\u001b[0;34m,\u001b[0m \u001b[0mconfig\u001b[0m\u001b[0;34m.\u001b[0m\u001b[0mlib\u001b[0m\u001b[0;34m.\u001b[0m\u001b[0mcnmem\u001b[0m\u001b[0;34m)\u001b[0m\u001b[0;34m\u001b[0m\u001b[0m\n\u001b[0m\u001b[1;32m    590\u001b[0m \u001b[0;34m\u001b[0m\u001b[0m\n\u001b[1;32m    591\u001b[0m             \u001b[0;32mif\u001b[0m \u001b[0mtest_driver\u001b[0m\u001b[0;34m:\u001b[0m\u001b[0;34m\u001b[0m\u001b[0m\n",
      "\u001b[0;31mRuntimeError\u001b[0m: ('initCnmem: cnmemInit call failed! Reason=CNMEM_STATUS_OUT_OF_MEMORY. numdev=1\\n', 'You asked to force this device and it failed. No fallback to the cpu or other gpu device.')"
     ]
    }
   ],
   "source": [
    "#%matplotlib inline\n",
    "import os \n",
    "import argparse\n",
    "import random\n",
    "\n",
    "random.seed()\n",
    "os.environ[\"THEANO_FLAGS\"]  = \"mode=FAST_RUN,device=gpu0,floatX=float32,lib.cnmem=1\"\n",
    "parser = argparse.ArgumentParser(description='Train model')                                                 \n",
    "parser.add_argument('--backend', type=str, default=\"theano\", help=\"theano or tensorflow\")                      \n",
    "parser.add_argument('--generator', type=str, default=\"upsampling\", help=\"upsampling or deconv or subpixel\")    \n",
    "parser.add_argument('--discriminator', type=str, default=\"discriminator\", help=\"discriminator discriminator_resnet\")\n",
    "parser.add_argument('--dset', type=str, default=\"mnist\", help=\"mnistM or washington_vandal50k or washington_vandal12classes\")             \n",
    "parser.add_argument('--img_dim', default=64, type=int, help=\"Image width == height\")                           \n",
    "parser.add_argument('--nb_epoch', default=10000, type=int, help=\"Number of epochs\")                              \n",
    "parser.add_argument('--batch_size', default=32, type=int, help='Batch size for training purpose; for testing is hardcoded at 32')                                   \n",
    "parser.add_argument('--n_batch_per_epoch', default=500, type=int, help=\"Number of batch per epochs\")           \n",
    "parser.add_argument('--bn_mode', default=2, type=int, help=\"Batch norm mode\")                                  \n",
    "parser.add_argument('--noise_dim', default=100, type=int, help=\"noise sampler dimension\")                      \n",
    "parser.add_argument('--noise_scale', default=0.5, type=float, help=\"noise sampler variance\")                   \n",
    "parser.add_argument('--disc_iterations', default=5, type=int, help=\"Number of discriminator iterations\")\n",
    "parser.add_argument('--clamp_lower', default=-100, type=float, help=\"Clamp weights below this value\")         \n",
    "parser.add_argument('--clamp_upper', default=100, type=float, help=\"Clamp weights above this value\")          \n",
    "parser.add_argument('--opt_D', type=str, default=\"Adam\", help=\"Optimizer for the discriminator\")            \n",
    "parser.add_argument('--opt_G', type=str, default=\"Adam\", help=\"Optimizer for the generator\")                \n",
    "parser.add_argument('--lr_D', type=float, default=1E-4, help=\"learning rate for the discriminator\")            \n",
    "parser.add_argument('--lr_G', type=float, default=1-4, help=\"learning rate for the generator\")                \n",
    "parser.add_argument('--use_mbd', action=\"store_true\", help=\"use mini batch disc\")\n",
    "parser.add_argument('--deterministic', action=\"store_true\", help=\"remove the noise input\")\n",
    "parser.add_argument('--inject_noise', action=\"store_true\", help=\"inject noise into each layer\")\n",
    "parser.add_argument('--model', type=str, default=\"lsgan\", help=\"wgan or lsgan\") \n",
    "parser.add_argument('--no_supertrain', action=\"store_true\", help=\"no discriminator supertraining\") \n",
    "parser.add_argument('--monsterClass', action=\"store_true\", help=\"Discriminator with 2x classes\")\n",
    "parser.add_argument('--resume', action=\"store_true\", help=\"load GAN weights from previous train\")#lsgan_VandWash1 is the name for the run Vand Wash no deterministic, no monsterclass\n",
    "parser.add_argument('--name', type=str, default=\"Vand_N+1class_genfixed\", help=\"name of the run, used for saving and loading weights\")\n",
    "parser.add_argument('--wd', type=float, default=0.0, help=\"weight decay for generator/discriminator\")\n",
    "\n",
    "###simulating the main.py calling with corresponding parameters:\n",
    "args = parser.parse_args(' --dset Vand_Vand_12class_LMDB --deterministic --disc_iterations 5 --no_supertrain --wd 1E-5 --lr_D 1E-4 --lr_G 1E-4'.split())\n",
    "######\n",
    "print args\n",
    "assert args.dset in [\"mnistM\",\"washington_vandal50k\",\"washington_vandal12classes\",\"washington_vandal12classesNoBackground\",\"Wash_Vand_12class_LMDB\",\"Vand_Vand_12class_LMDB\"]                                                      \n",
    "assert args.opt_G in [\"RMSprop\", \"SGD\", \"Adam\", \"AdamWithWeightnorm\"], \"Unsupported optimizer\"                 \n",
    "assert args.opt_D in [\"RMSprop\", \"SGD\", \"Adam\", \"AdamWithWeightnorm\"], \"Unsupported optimizer\" \n",
    "\n",
    "# Set the backend by modifying the env variable                                                                \n",
    "if args.backend == \"theano\":                                                                                   \n",
    "    os.environ[\"KERAS_BACKEND\"] = \"theano\"                                                                     \n",
    "elif args.backend == \"tensorflow\":                                                                             \n",
    "    os.environ[\"KERAS_BACKEND\"] = \"tensorflow\"  \n",
    "import keras.backend as K\n",
    "# manually set dim ordering otherwise it is not changed                                                        \n",
    "if args.backend == \"theano\":                                                                                   \n",
    "    image_dim_ordering = \"th\"                                                                                  \n",
    "    K.set_image_dim_ordering(image_dim_ordering)                                                               \n",
    "elif args.backend == \"tensorflow\":                                                                             \n",
    "    image_dim_ordering = \"tf\"                                                                                  \n",
    "    K.set_image_dim_ordering(image_dim_ordering)\n",
    "import train_WGAN\n",
    "# Set default params\n",
    "d_params = {\"generator\": args.generator,\n",
    "            \"discriminator\": args.discriminator,\n",
    "            \"dset\": args.dset,\n",
    "            \"img_dim\": args.img_dim,\n",
    "            \"nb_epoch\": args.nb_epoch,\n",
    "            \"batch_size\": args.batch_size,\n",
    "            \"n_batch_per_epoch\": args.n_batch_per_epoch,\n",
    "            \"bn_mode\": args.bn_mode,\n",
    "            \"noise_dim\": args.noise_dim,\n",
    "            \"noise_scale\": args.noise_scale,\n",
    "            \"disc_iterations\": args.disc_iterations,\n",
    "            \"clamp_lower\": args.clamp_lower,\n",
    "            \"clamp_upper\": args.clamp_upper,\n",
    "            \"lr_D\": args.lr_D,\n",
    "            \"lr_G\": args.lr_G,\n",
    "            \"opt_D\": args.opt_D,\n",
    "            \"opt_G\": args.opt_G,\n",
    "            \"use_mbd\": args.use_mbd,\n",
    "            \"deterministic\": args.deterministic,\n",
    "            \"image_dim_ordering\": image_dim_ordering,\n",
    "            \"model\": args.model,\n",
    "            \"no_supertrain\": args.no_supertrain,\n",
    "            \"monsterClass\": args.monsterClass,\n",
    "            \"resume\": args.resume,\n",
    "            \"name\": args.name,\n",
    "            \"inject_noise\": args.inject_noise,\n",
    "            \"wd\" : args.wd\n",
    "            }\n",
    "\n",
    "# Launch training\n",
    "train_WGAN.train(**d_params)"
   ]
  },
  {
   "cell_type": "code",
   "execution_count": null,
   "metadata": {
    "collapsed": false,
    "deletable": true,
    "editable": true,
    "scrolled": false
   },
   "outputs": [],
   "source": []
  },
  {
   "cell_type": "code",
   "execution_count": null,
   "metadata": {
    "collapsed": true,
    "deletable": true,
    "editable": true
   },
   "outputs": [],
   "source": []
  }
 ],
 "metadata": {
  "celltoolbar": "Raw Cell Format",
  "kernelspec": {
   "display_name": "Python 2",
   "language": "python",
   "name": "python2"
  },
  "language_info": {
   "codemirror_mode": {
    "name": "ipython",
    "version": 2
   },
   "file_extension": ".py",
   "mimetype": "text/x-python",
   "name": "python",
   "nbconvert_exporter": "python",
   "pygments_lexer": "ipython2",
   "version": "2.7.12"
  }
 },
 "nbformat": 4,
 "nbformat_minor": 0
}
