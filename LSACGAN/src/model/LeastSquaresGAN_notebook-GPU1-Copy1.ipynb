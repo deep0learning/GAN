{
 "cells": [
  {
   "cell_type": "code",
   "execution_count": null,
   "metadata": {
    "collapsed": false,
    "deletable": true,
    "editable": true,
    "scrolled": false
   },
   "outputs": [
    {
     "name": "stdout",
     "output_type": "stream",
     "text": [
      "Namespace(backend='theano', batch_size=32, bn_mode=2, clamp_lower=-100, clamp_upper=100, deterministic=True, disc_iterations=5, discriminator='discriminator', dset='Vand_Vand_12class_LMDB', generator='upsampling', img_dim=64, inject_noise=False, lr_D=0.0001, lr_G=0.0001, model='lsgan', monsterClass=True, n_batch_per_epoch=100, name='VandToVand_N_class_deterministic_genLabelFixed', nb_epoch=10000, no_supertrain=True, noise_dim=100, noise_scale=0.5, opt_D='Adam', opt_G='Adam', resume=True, use_mbd=False, wd=1e-05)\n"
     ]
    },
    {
     "name": "stderr",
     "output_type": "stream",
     "text": [
      "Using Theano backend.\n",
      "WARNING (theano.sandbox.cuda): The cuda backend is deprecated and will be removed in the next release (v0.10).  Please switch to the gpuarray backend. You can get more information about how to switch at this URL:\n",
      " https://github.com/Theano/Theano/wiki/Converting-to-the-new-gpu-back-end%28gpuarray%29\n",
      "\n",
      "Using gpu device 0: GeForce GTX TITAN X (CNMeM is enabled with initial size: 95.0% of memory, cuDNN 5110)\n"
     ]
    },
    {
     "name": "stdout",
     "output_type": "stream",
     "text": [
      "\n",
      "Experiment parameters:\n",
      "noise_dim 100\n",
      "image_dim_ordering th\n",
      "opt_D Adam\n",
      "use_mbd False\n",
      "discriminator discriminator\n",
      "clamp_lower -100\n",
      "generator upsampling\n",
      "nb_epoch 10000\n",
      "deterministic True\n",
      "n_batch_per_epoch 100\n",
      "disc_iterations 5\n",
      "no_supertrain True\n",
      "monsterClass True\n",
      "clamp_upper 100\n",
      "opt_G Adam\n",
      "wd 1e-05\n",
      "resume True\n",
      "batch_size 32\n",
      "dset Vand_Vand_12class_LMDB\n",
      "name VandToVand_N_class_deterministic_genLabelFixed\n",
      "noise_scale 0.5\n",
      "bn_mode 2\n",
      "lr_G 0.0001\n",
      "img_dim 64\n",
      "lr_D 0.0001\n",
      "inject_noise False\n",
      "model lsgan\n",
      "\n",
      "\n"
     ]
    }
   ],
   "source": [
    "#%matplotlib inline\n",
    "import os \n",
    "import argparse\n",
    "import random\n",
    "\n",
    "random.seed()\n",
    "os.environ[\"THEANO_FLAGS\"]  = \"mode=FAST_RUN,device=gpu0,floatX=float32,lib.cnmem=1\"\n",
    "parser = argparse.ArgumentParser(description='Train model')                                                 \n",
    "parser.add_argument('--backend', type=str, default=\"theano\", help=\"theano or tensorflow\")                      \n",
    "parser.add_argument('--generator', type=str, default=\"upsampling\", help=\"upsampling or deconv or subpixel\")    \n",
    "parser.add_argument('--discriminator', type=str, default=\"discriminator\", help=\"discriminator discriminator_resnet\")\n",
    "parser.add_argument('--dset', type=str, default=\"mnist\", help=\"mnistM or washington_vandal50k or washington_vandal12classes\")             \n",
    "parser.add_argument('--img_dim', default=64, type=int, help=\"Image width == height\")                           \n",
    "parser.add_argument('--nb_epoch', default=10000, type=int, help=\"Number of epochs\")                              \n",
    "parser.add_argument('--batch_size', default=32, type=int, help='Batch size for training purpose; for testing is hardcoded at 32')                                   \n",
    "parser.add_argument('--n_batch_per_epoch', default=100, type=int, help=\"Number of batch per epochs\")           \n",
    "parser.add_argument('--bn_mode', default=2, type=int, help=\"Batch norm mode\")                                  \n",
    "parser.add_argument('--noise_dim', default=100, type=int, help=\"noise sampler dimension\")                      \n",
    "parser.add_argument('--noise_scale', default=0.5, type=float, help=\"noise sampler variance\")                   \n",
    "parser.add_argument('--disc_iterations', default=5, type=int, help=\"Number of discriminator iterations\")\n",
    "parser.add_argument('--clamp_lower', default=-100, type=float, help=\"Clamp weights below this value\")         \n",
    "parser.add_argument('--clamp_upper', default=100, type=float, help=\"Clamp weights above this value\")          \n",
    "parser.add_argument('--opt_D', type=str, default=\"Adam\", help=\"Optimizer for the discriminator\")            \n",
    "parser.add_argument('--opt_G', type=str, default=\"Adam\", help=\"Optimizer for the generator\")                \n",
    "parser.add_argument('--lr_D', type=float, default=1E-4, help=\"learning rate for the discriminator\")            \n",
    "parser.add_argument('--lr_G', type=float, default=1-4, help=\"learning rate for the generator\")                \n",
    "parser.add_argument('--use_mbd', action=\"store_true\", help=\"use mini batch disc\")\n",
    "parser.add_argument('--deterministic', action=\"store_true\", help=\"remove the noise input\")\n",
    "parser.add_argument('--inject_noise', action=\"store_true\", help=\"inject noise into each layer\")\n",
    "parser.add_argument('--model', type=str, default=\"lsgan\", help=\"wgan or lsgan\") \n",
    "parser.add_argument('--no_supertrain', action=\"store_true\", help=\"no discriminator supertraining\") \n",
    "parser.add_argument('--monsterClass', action=\"store_true\", help=\"Discriminator with 2x classes\")\n",
    "parser.add_argument('--resume', action=\"store_true\", help=\"load GAN weights from previous train\")#lsgan_VandWash1 is the name for the run Vand Wash no deterministic, no monsterclass\n",
    "parser.add_argument('--name', type=str, default=\"VandToVand_N_class_deterministic_genLabelFixed\", help=\"name of the run, used for saving and loading weights\")\n",
    "parser.add_argument('--wd', type=float, default=0.0, help=\"weight decay for generator/discriminator\")\n",
    "\n",
    "###simulating the main.py calling with corresponding parameters:\n",
    "args = parser.parse_args('--resume --dset Vand_Vand_12class_LMDB --deterministic --monsterClass --disc_iterations 5 --no_supertrain --wd 1E-5 --lr_D 1E-4 --lr_G 1E-4'.split())\n",
    "######\n",
    "print args\n",
    "assert args.dset in [\"mnistM\",\"washington_vandal50k\",\"washington_vandal12classes\",\"washington_vandal12classesNoBackground\",\"Wash_Vand_12class_LMDB\",\"Vand_Vand_12class_LMDB\"]                                                      \n",
    "assert args.opt_G in [\"RMSprop\", \"SGD\", \"Adam\", \"AdamWithWeightnorm\"], \"Unsupported optimizer\"                 \n",
    "assert args.opt_D in [\"RMSprop\", \"SGD\", \"Adam\", \"AdamWithWeightnorm\"], \"Unsupported optimizer\" \n",
    "\n",
    "# Set the backend by modifying the env variable                                                                \n",
    "if args.backend == \"theano\":                                                                                   \n",
    "    os.environ[\"KERAS_BACKEND\"] = \"theano\"                                                                     \n",
    "elif args.backend == \"tensorflow\":                                                                             \n",
    "    os.environ[\"KERAS_BACKEND\"] = \"tensorflow\"  \n",
    "import keras.backend as K\n",
    "# manually set dim ordering otherwise it is not changed                                                        \n",
    "if args.backend == \"theano\":                                                                                   \n",
    "    image_dim_ordering = \"th\"                                                                                  \n",
    "    K.set_image_dim_ordering(image_dim_ordering)                                                               \n",
    "elif args.backend == \"tensorflow\":                                                                             \n",
    "    image_dim_ordering = \"tf\"                                                                                  \n",
    "    K.set_image_dim_ordering(image_dim_ordering)\n",
    "import train_WGAN\n",
    "# Set default params\n",
    "d_params = {\"generator\": args.generator,\n",
    "            \"discriminator\": args.discriminator,\n",
    "            \"dset\": args.dset,\n",
    "            \"img_dim\": args.img_dim,\n",
    "            \"nb_epoch\": args.nb_epoch,\n",
    "            \"batch_size\": args.batch_size,\n",
    "            \"n_batch_per_epoch\": args.n_batch_per_epoch,\n",
    "            \"bn_mode\": args.bn_mode,\n",
    "            \"noise_dim\": args.noise_dim,\n",
    "            \"noise_scale\": args.noise_scale,\n",
    "            \"disc_iterations\": args.disc_iterations,\n",
    "            \"clamp_lower\": args.clamp_lower,\n",
    "            \"clamp_upper\": args.clamp_upper,\n",
    "            \"lr_D\": args.lr_D,\n",
    "            \"lr_G\": args.lr_G,\n",
    "            \"opt_D\": args.opt_D,\n",
    "            \"opt_G\": args.opt_G,\n",
    "            \"use_mbd\": args.use_mbd,\n",
    "            \"deterministic\": args.deterministic,\n",
    "            \"image_dim_ordering\": image_dim_ordering,\n",
    "            \"model\": args.model,\n",
    "            \"no_supertrain\": args.no_supertrain,\n",
    "            \"monsterClass\": args.monsterClass,\n",
    "            \"resume\": args.resume,\n",
    "            \"name\": args.name,\n",
    "            \"inject_noise\": args.inject_noise,\n",
    "            \"wd\" : args.wd\n",
    "            }\n",
    "\n",
    "# Launch training\n",
    "train_WGAN.train(**d_params)"
   ]
  },
  {
   "cell_type": "code",
   "execution_count": null,
   "metadata": {
    "collapsed": false,
    "deletable": true,
    "editable": true,
    "scrolled": false
   },
   "outputs": [],
   "source": []
  },
  {
   "cell_type": "code",
   "execution_count": null,
   "metadata": {
    "collapsed": true,
    "deletable": true,
    "editable": true
   },
   "outputs": [],
   "source": []
  }
 ],
 "metadata": {
  "celltoolbar": "Raw Cell Format",
  "kernelspec": {
   "display_name": "Python 2",
   "language": "python",
   "name": "python2"
  },
  "language_info": {
   "codemirror_mode": {
    "name": "ipython",
    "version": 2
   },
   "file_extension": ".py",
   "mimetype": "text/x-python",
   "name": "python",
   "nbconvert_exporter": "python",
   "pygments_lexer": "ipython2",
   "version": "2.7.12"
  }
 },
 "nbformat": 4,
 "nbformat_minor": 0
}
